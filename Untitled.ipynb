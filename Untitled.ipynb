{
 "cells": [
  {
   "cell_type": "code",
   "execution_count": 5,
   "id": "96ef267b-5a96-4272-9e41-a4c552056756",
   "metadata": {},
   "outputs": [],
   "source": [
    "import numpy as np\n",
    "import pandas as pd \n",
    "\n",
    "import matplotlib.pyplot as plt"
   ]
  },
  {
   "cell_type": "code",
   "execution_count": 8,
   "id": "3f600dff-b22e-4ae7-977e-86b7bfb066ac",
   "metadata": {},
   "outputs": [],
   "source": [
    "data=pd.read_excel('age_dataset.xlsx')"
   ]
  },
  {
   "cell_type": "code",
   "execution_count": 21,
   "id": "09f8d835-7c96-4bfe-846b-be7f4aa3ce6d",
   "metadata": {},
   "outputs": [],
   "source": [
    "mean_age=np.mean(data['age'])"
   ]
  },
  {
   "cell_type": "code",
   "execution_count": 22,
   "id": "a09a838e-2c92-4409-b11a-b53d05149424",
   "metadata": {},
   "outputs": [
    {
     "data": {
      "image/png": "[encoded data removed]",
      "text/plain": [
       "<Figure size 640x480 with 1 Axes>"
      ]
     },
     "metadata": {},
     "output_type": "display_data"
    }
   ],
   "source": [
    "plt.hist(data['age'])\n",
    "plt.axvline(mean_age, color='red', linestyle='dashed', linewidth=2)\n",
    "\n",
    "plt.show()"
   ]
  },
  {
   "cell_type": "code",
   "execution_count": 24,
   "id": "41b84e2d-a739-4ae6-99a3-66f9e082ac05",
   "metadata": {},
   "outputs": [
    {
     "data": {
      "text/plain": [
       "2"
      ]
     },
     "execution_count": 24,
     "metadata": {},
     "output_type": "execute_result"
    }
   ],
   "source": [
    "np.abs(-2) #The np.abs() function in NumPy computes the absolute value of a number. So, if you use np.abs(-2), it will return 2."
   ]
  },
  {
   "cell_type": "code",
   "execution_count": null,
   "id": "8fc74644-2b30-42dd-9d78-9a5a1a1566a7",
   "metadata": {},
   "outputs": [],
   "source": []
  }
 ],
 "metadata": {
  "kernelspec": {
   "display_name": "Python 3 (ipykernel)",
   "language": "python",
   "name": "python3"
  },
  "language_info": {
   "codemirror_mode": {
    "name": "ipython",
    "version": 3
   },
   "file_extension": ".py",
   "mimetype": "text/x-python",
   "name": "python",
   "nbconvert_exporter": "python",
   "pygments_lexer": "ipython3",
   "version": "3.11.4"
  }
 },
 "nbformat": 4,
 "nbformat_minor": 5
}
